{
 "cells": [
  {
   "cell_type": "code",
   "execution_count": null,
   "id": "a64803de",
   "metadata": {},
   "outputs": [],
   "source": []
  },
  {
   "cell_type": "code",
   "execution_count": 12,
   "id": "76391166",
   "metadata": {},
   "outputs": [],
   "source": [
    "import requests as req\n",
    "from bs4 import BeautifulSoup as bs\n",
    "\n"
   ]
  },
  {
   "cell_type": "code",
   "execution_count": 25,
   "id": "817cd5ea",
   "metadata": {},
   "outputs": [
    {
     "data": {
      "text/plain": [
       "'Oct 2012'"
      ]
     },
     "execution_count": 25,
     "metadata": {},
     "output_type": "execute_result"
    }
   ],
   "source": [
    "\n",
    "url = 'https://www.codewars.com/users/jhoffner'\n",
    "html=req.get(url).content\n",
    "soup=bs(html, 'html.parser')\n",
    "a= soup.find_all('div',{'class':'stat'})\n",
    "a\n",
    "fecha=\"\"\n",
    "for i in a:\n",
    "    if \"Member Since\" in i.text:\n",
    "        fecha = i.text\n",
    "fecha.replace(\"Member Since:\",\"\")"
   ]
  },
  {
   "cell_type": "code",
   "execution_count": 24,
   "id": "fe903e79",
   "metadata": {},
   "outputs": [
    {
     "data": {
      "text/plain": [
       "'Oct 2012'"
      ]
     },
     "execution_count": 24,
     "metadata": {},
     "output_type": "execute_result"
    }
   ],
   "source": [
    "fecha.replace(\"Member Since:\",\"\")\n"
   ]
  },
  {
   "cell_type": "code",
   "execution_count": null,
   "id": "c168cc3b",
   "metadata": {},
   "outputs": [],
   "source": [
    "fecha"
   ]
  }
 ],
 "metadata": {
  "kernelspec": {
   "display_name": "Python 3 (ipykernel)",
   "language": "python",
   "name": "python3"
  },
  "language_info": {
   "codemirror_mode": {
    "name": "ipython",
    "version": 3
   },
   "file_extension": ".py",
   "mimetype": "text/x-python",
   "name": "python",
   "nbconvert_exporter": "python",
   "pygments_lexer": "ipython3",
   "version": "3.9.12"
  }
 },
 "nbformat": 4,
 "nbformat_minor": 5
}
